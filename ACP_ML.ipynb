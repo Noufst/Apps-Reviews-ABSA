{
 "cells": [
  {
   "cell_type": "markdown",
   "metadata": {},
   "source": [
    "## Import Needed Libraries"
   ]
  },
  {
   "cell_type": "code",
   "execution_count": null,
   "metadata": {},
   "outputs": [],
   "source": [
    "import numpy as np\n",
    "import pandas as pd\n",
    "import nltk\n",
    "import re\n",
    "import logging\n",
    "import warnings\n",
    "import os\n",
    "from collections import defaultdict\n",
    "from sklearn.model_selection import train_test_split\n",
    "from pandas import ExcelWriter\n",
    "import ast\n",
    "\n",
    "# ML Training \n",
    "from sklearn.svm import LinearSVC\n",
    "from sklearn.neural_network import MLPClassifier\n",
    "from sklearn.tree import DecisionTreeClassifier\n",
    "from sklearn.naive_bayes import GaussianNB\n",
    "from sklearn.linear_model import LogisticRegression\n",
    "from sklearn.neighbors import KNeighborsClassifier\n",
    "\n",
    "from imblearn.over_sampling import SMOTE\n",
    "from imblearn.pipeline import Pipeline \n",
    "from sklearn.model_selection import StratifiedKFold\n",
    "from sklearn.model_selection import RepeatedStratifiedKFold\n",
    "from sklearn.model_selection import cross_validate\n",
    "\n",
    "# Setting up the loggings to monitor gensim\n",
    "logging.basicConfig(format=\"%(levelname)s - %(asctime)s: %(message)s\", datefmt= '%H:%M:%S', level=logging.INFO)\n",
    "\n",
    "# hide warnings\n",
    "warnings.filterwarnings(\"ignore\", category=np.VisibleDeprecationWarning) \n",
    "\n",
    "# General settings\n",
    "pd.set_option('display.max_colwidth', None)\n",
    "np.random.seed(11)\n",
    "nltk.download('wordnet')\n",
    "\n",
    "#domain = \"Social_Networking\"\n",
    "#domain = \"Games\"\n",
    "domain = \"Productivity\"\n",
    "\n",
    "if domain == \"Social_Networking\":\n",
    "    text_representation_url = \"https://drive.google.com/uc?id=1-obCouGNTpXLS0UPbwazeuZMNRQCpO_V&export=download\"\n",
    "    all_features_url = \"https://drive.google.com/uc?id=/1QGRqvdnVUst9BQh3_KetuRcrRxWZZSxR&export=download\"\n",
    "elif domain == \"Games\":\n",
    "    text_representation_url = \"https://drive.google.com/uc?id=1mh6gURnnFJ-KeBRpmF9gHjtGhoQ2D6OI&export=download\"\n",
    "    all_features_url = \"https://drive.google.com/uc?id=15zkGkJe5SXA6jEaxUiUE5OQyOC0A7uHg&export=download\"\n",
    "elif domain == \"Productivity\":\n",
    "    text_representation_url = \"https://drive.google.com/uc?id=1AT7-wtIblIlY6HZYzwyQZy_cQWoh8pvE&export=download\"\n",
    "    all_features_url = \"https://drive.google.com/uc?id=0t2J8cXcII_4VgGzcvFgSPTD0PekqcRC&export=download\""
   ]
  },
  {
   "cell_type": "markdown",
   "metadata": {},
   "source": [
    "# Load training & testing data"
   ]
  },
  {
   "cell_type": "code",
   "execution_count": null,
   "metadata": {},
   "outputs": [],
   "source": [
    "# Read data from csv\n",
    "df_1 = pd.read_csv(text_representation_url)\n",
    "\n",
    "df_1['tfidf'] = [np.array(ast.literal_eval(x)) for x in df_1['tfidf']]\n",
    "df_1['w2v'] = [np.array(ast.literal_eval(x)) for x in df_1['w2v']]\n",
    "df_1['ds_w2v'] = [np.array(ast.literal_eval(x)) for x in df_1['ds_w2v']]\n",
    "df_1['w2v_tfidf'] = [np.array(ast.literal_eval(x)) for x in df_1['w2v_tfidf']]\n",
    "df_1['ds_w2v_tfidf'] = [np.array(ast.literal_eval(x)) for x in df_1['ds_w2v_tfidf']]\n",
    "df_1['elmo'] = [np.array(ast.literal_eval(x)) for x in df_1['elmo']]\n",
    "df_1['bert'] = [np.array(ast.literal_eval(x)) for x in df_1['bert']]\n",
    "df_1['fine_tuned_bert'] = [np.array(ast.literal_eval(x)) for x in df_1['fine_tuned_bert']]"
   ]
  },
  {
   "cell_type": "code",
   "execution_count": null,
   "metadata": {},
   "outputs": [],
   "source": [
    "# All Features\n",
    "df_2 = pd.read_csv(all_features_url)\n",
    "df_2.drop(['sentence', 'sentence_clean', 'rating', 'sentiment', 'sentiment_id', 'category', 'category_id'], axis='columns', inplace=True)\n",
    "\n",
    "df = pd.concat([df_1,df_2], axis=1)"
   ]
  },
  {
   "cell_type": "code",
   "execution_count": null,
   "metadata": {},
   "outputs": [],
   "source": [
    "# Re-arrange columns\n",
    "\n",
    "df = df[['sentence', 'sentiment', 'sentiment_id', 'tfidf', 'w2v', 'ds_w2v',\n",
    "       'w2v_tfidf', 'ds_w2v_tfidf', 'elmo', 'bert', 'fine_tuned_bert', 'W-negative_Association',\n",
    "       'W-positive_Association', 'num_generic_pos', 'num_generic_neg',\n",
    "       'num_tfidf_pos', 'num_tfidf_neg','num_PMI_pos', 'num_PMI_neg',\n",
    "       'num_tfidf_pos + synonyms','num_tfidf_neg + synonyms', \n",
    "       'num_PMI_pos + synonyms', 'num_PMI_neg + synonyms', \n",
    "       'num_generic_pos + synonyms', 'num_generic_neg + synonyms',\n",
    "       'num_pos_emojis','num_neg_emojis', 'rating', 'category_id', 'aspect_dependent_sentiment_score']]"
   ]
  },
  {
   "cell_type": "markdown",
   "metadata": {},
   "source": [
    "## Training"
   ]
  },
  {
   "cell_type": "code",
   "execution_count": null,
   "metadata": {},
   "outputs": [],
   "source": [
    "# print columns (features) names\n",
    "df.columns"
   ]
  },
  {
   "cell_type": "code",
   "execution_count": null,
   "metadata": {},
   "outputs": [],
   "source": [
    "# select features for the ablation study \n",
    "\n",
    "df_features_1 = df.iloc[:, 11:13]\n",
    "df_features_2 = df.iloc[:, 17:19]\n",
    "df_features_3 = df.iloc[:, 27:]\n",
    "df_features = pd.concat([df_features_1,df_features_2,df_features_3], axis=1)\n",
    "\n",
    "#df_features = df.iloc[:, 11:]\n",
    "df_features.columns"
   ]
  },
  {
   "cell_type": "code",
   "execution_count": null,
   "metadata": {},
   "outputs": [],
   "source": [
    "%%time\n",
    "\n",
    "# open excel file to export the results to it\n",
    "writer = ExcelWriter(\"Results/ACP/\" + domain + \"_best.xlsx\")\n",
    "\n",
    "\n",
    "classifiers = {\"SVM\": LinearSVC(max_iter=100, random_state=11),\n",
    "              \"MLP\": MLPClassifier(max_iter=100, random_state=11),\n",
    "               \"DT\": DecisionTreeClassifier(random_state=11),\n",
    "               \"GNB\": GaussianNB(),\n",
    "               \"LR\": LogisticRegression(random_state=11),\n",
    "               \"KNN\": KNeighborsClassifier()\n",
    "              }\n",
    "\n",
    "text_representations = [\"tfidf\", \"w2v\", \"ds_w2v\", \"w2v_tfidf\", \"ds_w2v_tfidf\", \"elmo\", \"bert\", \"fine_tuned_bert\"]\n",
    "\n",
    "scoring = ['accuracy']\n",
    "\n",
    "col_names = ['model']\n",
    "for x in text_representations:\n",
    "    col_names.append(x)\n",
    "output_results = []\n",
    "\n",
    "for name, classifier in classifiers.items():\n",
    "\n",
    "    avereged_results = [name]\n",
    "    \n",
    "    for text_representation in text_representations:\n",
    "        \n",
    "        np.random.seed(11)\n",
    "\n",
    "        print(\"\\ncreate the pipeline for \" + name + \" and \" +  text_representation)\n",
    "\n",
    "        X = np.concatenate((np.array(df[text_representation].tolist()), df_features.values), axis=1)\n",
    "        #X = np.array(df[text_representation].tolist())\n",
    "        Y = df[\"sentiment_id\"]\n",
    "        \n",
    "        rskf = RepeatedStratifiedKFold(n_splits=10, n_repeats=10, random_state=11)\n",
    "        results = cross_validate(classifier, X, Y, cv=rskf, scoring=scoring) \n",
    "        \n",
    "        acc = np.mean(results['test_accuracy']) * 100\n",
    "        print('\\nAccuracy:', acc, '%')\n",
    "        avereged_results.append(acc)\n",
    "    output_results.append(avereged_results)\n",
    "    \n",
    "# export classifier's results\n",
    "result_df = pd.DataFrame(output_results, columns=col_names)\n",
    "result_df.to_excel(writer, index=False)\n",
    "\n",
    "writer.save()\n",
    "os.system(\"printf '\\a'\") # or '\\7'"
   ]
  },
  {
   "cell_type": "code",
   "execution_count": null,
   "metadata": {},
   "outputs": [],
   "source": []
  }
 ],
 "metadata": {
  "kernelspec": {
   "display_name": "Python 3 (ipykernel)",
   "language": "python",
   "name": "python3"
  },
  "language_info": {
   "codemirror_mode": {
    "name": "ipython",
    "version": 3
   },
   "file_extension": ".py",
   "mimetype": "text/x-python",
   "name": "python",
   "nbconvert_exporter": "python",
   "pygments_lexer": "ipython3",
   "version": "3.9.7"
  }
 },
 "nbformat": 4,
 "nbformat_minor": 4
}
